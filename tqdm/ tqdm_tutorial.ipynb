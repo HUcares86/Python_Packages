{
 "cells": [
  {
   "cell_type": "code",
   "execution_count": 2,
   "id": "360a4e49",
   "metadata": {},
   "outputs": [],
   "source": [
    "import pandas as pd\n",
    "import numpy as np\n",
    "from time import sleep\n",
    "from tqdm import tqdm, trange\n",
    "\n"
   ]
  },
  {
   "cell_type": "markdown",
   "id": "9dc64fa3",
   "metadata": {},
   "source": [
    "# Fake data\n"
   ]
  },
  {
   "cell_type": "code",
   "execution_count": 24,
   "id": "94fbf737",
   "metadata": {},
   "outputs": [],
   "source": [
    "dogs = np.random.choice(['a','b','c','d'], size = 50000)\n",
    "smell = np.random.randint(0,100, size = 50000)\n",
    "df = pd.DataFrame(data = np.array([dogs,smell]).T,\n",
    "                 columns = ['dogs', 'smell'])"
   ]
  },
  {
   "cell_type": "code",
   "execution_count": 44,
   "id": "c434c0dc",
   "metadata": {},
   "outputs": [
    {
     "data": {
      "text/html": [
       "<div>\n",
       "<style scoped>\n",
       "    .dataframe tbody tr th:only-of-type {\n",
       "        vertical-align: middle;\n",
       "    }\n",
       "\n",
       "    .dataframe tbody tr th {\n",
       "        vertical-align: top;\n",
       "    }\n",
       "\n",
       "    .dataframe thead th {\n",
       "        text-align: right;\n",
       "    }\n",
       "</style>\n",
       "<table border=\"1\" class=\"dataframe\">\n",
       "  <thead>\n",
       "    <tr style=\"text-align: right;\">\n",
       "      <th></th>\n",
       "      <th>dogs</th>\n",
       "      <th>smell</th>\n",
       "    </tr>\n",
       "  </thead>\n",
       "  <tbody>\n",
       "    <tr>\n",
       "      <th>0</th>\n",
       "      <td>d</td>\n",
       "      <td>17</td>\n",
       "    </tr>\n",
       "    <tr>\n",
       "      <th>1</th>\n",
       "      <td>a</td>\n",
       "      <td>87</td>\n",
       "    </tr>\n",
       "    <tr>\n",
       "      <th>2</th>\n",
       "      <td>d</td>\n",
       "      <td>64</td>\n",
       "    </tr>\n",
       "    <tr>\n",
       "      <th>3</th>\n",
       "      <td>c</td>\n",
       "      <td>83</td>\n",
       "    </tr>\n",
       "    <tr>\n",
       "      <th>4</th>\n",
       "      <td>a</td>\n",
       "      <td>37</td>\n",
       "    </tr>\n",
       "  </tbody>\n",
       "</table>\n",
       "</div>"
      ],
      "text/plain": [
       "  dogs smell\n",
       "0    d    17\n",
       "1    a    87\n",
       "2    d    64\n",
       "3    c    83\n",
       "4    a    37"
      ]
     },
     "execution_count": 44,
     "metadata": {},
     "output_type": "execute_result"
    }
   ],
   "source": [
    "df.head()"
   ]
  },
  {
   "cell_type": "code",
   "execution_count": 10,
   "id": "68b371dc",
   "metadata": {},
   "outputs": [
    {
     "name": "stderr",
     "output_type": "stream",
     "text": [
      "100%|███████████████████████████████████| 50000/50000 [00:06<00:00, 7313.69it/s]"
     ]
    },
    {
     "name": "stdout",
     "output_type": "stream",
     "text": [
      "done\n"
     ]
    },
    {
     "name": "stderr",
     "output_type": "stream",
     "text": [
      "\n"
     ]
    }
   ],
   "source": [
    "for dog in tqdm(dogs):\n",
    "    sleep(0.0001)\n",
    "print('done')"
   ]
  },
  {
   "cell_type": "code",
   "execution_count": 11,
   "id": "86b6adb5",
   "metadata": {},
   "outputs": [
    {
     "name": "stderr",
     "output_type": "stream",
     "text": [
      " 83%|████████████████████████████▎     | 50000/60000 [00:00<00:00, 61385.84it/s]"
     ]
    },
    {
     "name": "stdout",
     "output_type": "stream",
     "text": [
      "done\n"
     ]
    },
    {
     "name": "stderr",
     "output_type": "stream",
     "text": [
      "\n"
     ]
    }
   ],
   "source": [
    "# don't know how large it is\n",
    "for dog in tqdm(dogs, total=60000):\n",
    "    sleep(0.00001)\n",
    "print('done')"
   ]
  },
  {
   "cell_type": "code",
   "execution_count": 14,
   "id": "41d72bd1",
   "metadata": {},
   "outputs": [
    {
     "name": "stderr",
     "output_type": "stream",
     "text": [
      "100%|███████████████████████████████████| 50000/50000 [00:24<00:00, 2040.24it/s]\n",
      "100%|█████████████████████████████████| 50000/50000 [00:00<00:00, 228151.18it/s]\n"
     ]
    }
   ],
   "source": [
    "# we don't need to put tqdm in the loop , for example a while loop when we \n",
    "# don't know when it will end\n",
    "pbar = tqdm(total=50000)\n",
    "for s in smell:\n",
    "    pbar.update(1)\n",
    "    sleep(0.000001)\n",
    "pbar.close() \n",
    "    "
   ]
  },
  {
   "cell_type": "markdown",
   "id": "7ce11078",
   "metadata": {},
   "source": [
    "# Setting description and unit\n"
   ]
  },
  {
   "cell_type": "code",
   "execution_count": 15,
   "id": "79d0d4de",
   "metadata": {},
   "outputs": [
    {
     "name": "stderr",
     "output_type": "stream",
     "text": [
      "dog counter: 100%|█████████████████| 50000/50000 [00:00<00:00, 220971.02barks/s]\n"
     ]
    }
   ],
   "source": [
    "for dogs in tqdm(dogs, desc='dog counter', unit='barks'):\n",
    "    sleep(0.000001)"
   ]
  },
  {
   "cell_type": "markdown",
   "id": "270e8977",
   "metadata": {},
   "source": [
    "# Nested progress bar"
   ]
  },
  {
   "cell_type": "code",
   "execution_count": 17,
   "id": "340f361a",
   "metadata": {},
   "outputs": [
    {
     "name": "stderr",
     "output_type": "stream",
     "text": [
      "dog counter:   0%|                                        | 0/5 [00:00<?, ?it/s]\n",
      "smell counter:   0%|                                      | 0/2 [00:00<?, ?it/s]\u001b[A\n",
      "smell counter: 100%|██████████████████████████████| 2/2 [00:00<00:00, 17.30it/s]\u001b[A\n",
      "dog counter:  20%|██████▍                         | 1/5 [00:00<00:00,  8.17it/s]\n"
     ]
    }
   ],
   "source": [
    "for dog in tqdm(dogs[:5], desc='dog counter',total=5):\n",
    "    for s in tqdm(smell[:2], desc='smell counter',total=2):\n",
    "        sleep(0.05)"
   ]
  },
  {
   "cell_type": "code",
   "execution_count": 25,
   "id": "ad1365bc",
   "metadata": {},
   "outputs": [
    {
     "data": {
      "text/plain": [
       "array(['d', 'a', 'd', 'c', 'a', 'a', 'c', 'b', 'd', 'c'], dtype='<U1')"
      ]
     },
     "execution_count": 25,
     "metadata": {},
     "output_type": "execute_result"
    }
   ],
   "source": [
    "dogs[:10]"
   ]
  },
  {
   "cell_type": "markdown",
   "id": "ab2fdbbd",
   "metadata": {},
   "source": [
    "## dynamic description"
   ]
  },
  {
   "cell_type": "code",
   "execution_count": 27,
   "id": "62fecf5d",
   "metadata": {},
   "outputs": [
    {
     "name": "stderr",
     "output_type": "stream",
     "text": [
      "progressing: c: 100%|███████████████████████████| 10/10 [00:10<00:00,  1.01s/it]\n"
     ]
    }
   ],
   "source": [
    "# we can know what we are processing\n",
    "pbar = tqdm(dogs[:10])\n",
    "for dog in pbar:\n",
    "    sleep(1)\n",
    "    pbar.set_description(f'progressing: {dog}') "
   ]
  },
  {
   "cell_type": "markdown",
   "id": "b672e560",
   "metadata": {},
   "source": [
    "## Control bar size"
   ]
  },
  {
   "cell_type": "code",
   "execution_count": 30,
   "id": "a192fc11",
   "metadata": {},
   "outputs": [
    {
     "name": "stderr",
     "output_type": "stream",
     "text": [
      "100%|████████| 50000/50000 [00:00<00:00, 222688.12it/s]\n",
      "100%|█| 50000/50000 \n",
      "100%\n"
     ]
    }
   ],
   "source": [
    "for i in tqdm(range(50000),ncols=55):\n",
    "    sleep(0.000001)\n",
    "for i in tqdm(range(50000),ncols=20):\n",
    "    sleep(0.000001)\n",
    "for i in tqdm(range(50000),ncols=4):\n",
    "    sleep(0.000001)"
   ]
  },
  {
   "cell_type": "markdown",
   "id": "5e6a0692",
   "metadata": {},
   "source": [
    "## setting the interval"
   ]
  },
  {
   "cell_type": "code",
   "execution_count": 39,
   "id": "5cac3d20",
   "metadata": {},
   "outputs": [
    {
     "name": "stderr",
     "output_type": "stream",
     "text": [
      "100%|██████████| 50000/50000 [00:06<00:00, 7437.45it/s]\n"
     ]
    }
   ],
   "source": [
    "for i in tqdm(range(50000),ncols=55):\n",
    "    sleep(0.0001)"
   ]
  },
  {
   "cell_type": "code",
   "execution_count": 36,
   "id": "40a46c37",
   "metadata": {},
   "outputs": [
    {
     "name": "stderr",
     "output_type": "stream",
     "text": [
      "100%|██████████| 50000/50000 [00:06<00:00, 7514.98it/s]\n"
     ]
    }
   ],
   "source": [
    "for i in tqdm(range(50000),ncols=55,mininterval =1):\n",
    "    sleep(0.0001)"
   ]
  },
  {
   "cell_type": "code",
   "execution_count": 37,
   "id": "2d748698",
   "metadata": {},
   "outputs": [
    {
     "name": "stderr",
     "output_type": "stream",
     "text": [
      "100%|█████████| 50000/50000 [00:00<00:00, 64843.09it/s]\n"
     ]
    }
   ],
   "source": [
    "for i in tqdm(range(50000),ncols=55,maxinterval =100):\n",
    "    sleep(0.00001)"
   ]
  },
  {
   "cell_type": "markdown",
   "id": "ee56271f",
   "metadata": {},
   "source": [
    "## disable progress bar"
   ]
  },
  {
   "cell_type": "code",
   "execution_count": 42,
   "id": "db069dff",
   "metadata": {},
   "outputs": [],
   "source": [
    "debuging = False\n",
    "# debuging = True\n",
    "for i in tqdm(range(50000),ncols=55, disable = not debuging):\n",
    "    sleep(0.0001)"
   ]
  },
  {
   "cell_type": "markdown",
   "id": "cbdc5f50",
   "metadata": {},
   "source": [
    "## tqdm with pandas"
   ]
  },
  {
   "cell_type": "code",
   "execution_count": 52,
   "id": "60cba541",
   "metadata": {},
   "outputs": [
    {
     "ename": "TypeError",
     "evalue": "'method' object is not subscriptable",
     "output_type": "error",
     "traceback": [
      "\u001b[0;31m---------------------------------------------------------------------------\u001b[0m",
      "\u001b[0;31mTypeError\u001b[0m                                 Traceback (most recent call last)",
      "\u001b[0;32m/var/folders/zl/whn4wn617zx2w7kcvhl0yy5r0000gn/T/ipykernel_5648/1570432333.py\u001b[0m in \u001b[0;36m<module>\u001b[0;34m\u001b[0m\n\u001b[1;32m      1\u001b[0m \u001b[0mtqdm\u001b[0m\u001b[0;34m.\u001b[0m\u001b[0mpandas\u001b[0m\u001b[0;34m(\u001b[0m\u001b[0mdesc\u001b[0m\u001b[0;34m=\u001b[0m\u001b[0;34m'my bar'\u001b[0m\u001b[0;34m)\u001b[0m\u001b[0;34m\u001b[0m\u001b[0;34m\u001b[0m\u001b[0m\n\u001b[1;32m      2\u001b[0m \u001b[0mdf\u001b[0m\u001b[0;34m[\u001b[0m\u001b[0;34m'2'\u001b[0m\u001b[0;34m]\u001b[0m \u001b[0;34m=\u001b[0m \u001b[0mdf\u001b[0m\u001b[0;34m[\u001b[0m\u001b[0;34m'smell'\u001b[0m\u001b[0;34m]\u001b[0m\u001b[0;34m*\u001b[0m\u001b[0;36m2\u001b[0m\u001b[0;34m\u001b[0m\u001b[0;34m\u001b[0m\u001b[0m\n\u001b[0;32m----> 3\u001b[0;31m \u001b[0mdf\u001b[0m\u001b[0;34m[\u001b[0m\u001b[0;34m'2'\u001b[0m\u001b[0;34m]\u001b[0m \u001b[0;34m=\u001b[0m \u001b[0mdf\u001b[0m\u001b[0;34m.\u001b[0m\u001b[0mprogress_apply\u001b[0m\u001b[0;34m[\u001b[0m\u001b[0;34m'smell'\u001b[0m\u001b[0;34m]\u001b[0m\u001b[0;34m*\u001b[0m\u001b[0;36m2\u001b[0m\u001b[0;34m\u001b[0m\u001b[0;34m\u001b[0m\u001b[0m\n\u001b[0m",
      "\u001b[0;31mTypeError\u001b[0m: 'method' object is not subscriptable"
     ]
    }
   ],
   "source": [
    "tqdm.pandas(desc='my bar')\n",
    "df['2'] = df['smell']*2\n",
    "df['2'] = df.progress_apply['smell']*2"
   ]
  },
  {
   "cell_type": "code",
   "execution_count": 51,
   "id": "45df206a",
   "metadata": {},
   "outputs": [
    {
     "data": {
      "text/html": [
       "<div>\n",
       "<style scoped>\n",
       "    .dataframe tbody tr th:only-of-type {\n",
       "        vertical-align: middle;\n",
       "    }\n",
       "\n",
       "    .dataframe tbody tr th {\n",
       "        vertical-align: top;\n",
       "    }\n",
       "\n",
       "    .dataframe thead th {\n",
       "        text-align: right;\n",
       "    }\n",
       "</style>\n",
       "<table border=\"1\" class=\"dataframe\">\n",
       "  <thead>\n",
       "    <tr style=\"text-align: right;\">\n",
       "      <th></th>\n",
       "      <th>dogs</th>\n",
       "      <th>smell</th>\n",
       "      <th>2</th>\n",
       "    </tr>\n",
       "  </thead>\n",
       "  <tbody>\n",
       "    <tr>\n",
       "      <th>0</th>\n",
       "      <td>d</td>\n",
       "      <td>17</td>\n",
       "      <td>1717</td>\n",
       "    </tr>\n",
       "    <tr>\n",
       "      <th>1</th>\n",
       "      <td>a</td>\n",
       "      <td>87</td>\n",
       "      <td>8787</td>\n",
       "    </tr>\n",
       "    <tr>\n",
       "      <th>2</th>\n",
       "      <td>d</td>\n",
       "      <td>64</td>\n",
       "      <td>6464</td>\n",
       "    </tr>\n",
       "    <tr>\n",
       "      <th>3</th>\n",
       "      <td>c</td>\n",
       "      <td>83</td>\n",
       "      <td>8383</td>\n",
       "    </tr>\n",
       "    <tr>\n",
       "      <th>4</th>\n",
       "      <td>a</td>\n",
       "      <td>37</td>\n",
       "      <td>3737</td>\n",
       "    </tr>\n",
       "    <tr>\n",
       "      <th>...</th>\n",
       "      <td>...</td>\n",
       "      <td>...</td>\n",
       "      <td>...</td>\n",
       "    </tr>\n",
       "    <tr>\n",
       "      <th>49995</th>\n",
       "      <td>a</td>\n",
       "      <td>85</td>\n",
       "      <td>8585</td>\n",
       "    </tr>\n",
       "    <tr>\n",
       "      <th>49996</th>\n",
       "      <td>b</td>\n",
       "      <td>13</td>\n",
       "      <td>1313</td>\n",
       "    </tr>\n",
       "    <tr>\n",
       "      <th>49997</th>\n",
       "      <td>a</td>\n",
       "      <td>57</td>\n",
       "      <td>5757</td>\n",
       "    </tr>\n",
       "    <tr>\n",
       "      <th>49998</th>\n",
       "      <td>c</td>\n",
       "      <td>97</td>\n",
       "      <td>9797</td>\n",
       "    </tr>\n",
       "    <tr>\n",
       "      <th>49999</th>\n",
       "      <td>d</td>\n",
       "      <td>20</td>\n",
       "      <td>2020</td>\n",
       "    </tr>\n",
       "  </tbody>\n",
       "</table>\n",
       "<p>50000 rows × 3 columns</p>\n",
       "</div>"
      ],
      "text/plain": [
       "      dogs smell     2\n",
       "0        d    17  1717\n",
       "1        a    87  8787\n",
       "2        d    64  6464\n",
       "3        c    83  8383\n",
       "4        a    37  3737\n",
       "...    ...   ...   ...\n",
       "49995    a    85  8585\n",
       "49996    b    13  1313\n",
       "49997    a    57  5757\n",
       "49998    c    97  9797\n",
       "49999    d    20  2020\n",
       "\n",
       "[50000 rows x 3 columns]"
      ]
     },
     "execution_count": 51,
     "metadata": {},
     "output_type": "execute_result"
    }
   ],
   "source": [
    "df"
   ]
  },
  {
   "cell_type": "code",
   "execution_count": null,
   "id": "3a7b3c17",
   "metadata": {},
   "outputs": [],
   "source": []
  },
  {
   "cell_type": "code",
   "execution_count": null,
   "id": "178de106",
   "metadata": {},
   "outputs": [],
   "source": []
  }
 ],
 "metadata": {
  "kernelspec": {
   "display_name": "Python 3 (ipykernel)",
   "language": "python",
   "name": "python3"
  },
  "language_info": {
   "codemirror_mode": {
    "name": "ipython",
    "version": 3
   },
   "file_extension": ".py",
   "mimetype": "text/x-python",
   "name": "python",
   "nbconvert_exporter": "python",
   "pygments_lexer": "ipython3",
   "version": "3.9.7"
  }
 },
 "nbformat": 4,
 "nbformat_minor": 5
}
